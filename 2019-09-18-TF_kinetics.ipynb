{
 "cells": [
  {
   "cell_type": "code",
   "execution_count": null,
   "metadata": {},
   "outputs": [],
   "source": [
    "%matplotlib inline"
   ]
  },
  {
   "cell_type": "code",
   "execution_count": null,
   "metadata": {},
   "outputs": [],
   "source": [
    "import numpy as np\n",
    "import matplotlib.pyplot as plt\n",
    "from scipy.linalg import eig"
   ]
  },
  {
   "cell_type": "markdown",
   "metadata": {},
   "source": [
    "# 2019-09-18-TF_kinetics\n",
    "\n",
    "Transcription factor kinetics on different topological manifolds can be calculated with some nice theoretical consideration.\n",
    "\n",
    "## FPT when they escape\n",
    "Let's consider a network with a given structure. I have previously characterized the FPT, MFPT, and GMFPT behaviour of random walks on a network using various theoretical approaches. Now I want to consider a situation in which I add a node to the network, where this node corresponds to a \"void\" state (bulk diffusion), which has a link to all other nodes, with a given weight."
   ]
  },
  {
   "cell_type": "code",
   "execution_count": null,
   "metadata": {},
   "outputs": [],
   "source": [
    "def GMFPT_theory (A,weighted=True) :\n",
    "    \"\"\"\n",
    "    According to the theory of Lin et al., 2012, the global mean first passage\n",
    "    time can be calculated by finding the eigenspectrum of the Laplacian matrix\n",
    "    of the graph. This function calculates the GMFPT from their formula, for the\n",
    "    graph described by the adjacency matrix A, to all sites. Optional parameter\n",
    "    'weighted' allows for the choice of having the same quantity but weighted\n",
    "    with the stationary distribution.\n",
    "    \"\"\"\n",
    "    N = A.shape[0]\n",
    "    d = np.sum(A,axis=1)\n",
    "    E = np.sum(d)/2.\n",
    "    L = np.diag(d) - A\n",
    "    L_eigs = eig(L)\n",
    "    sortidx = np.argsort(L_eigs[0])\n",
    "    l = np.array([L_eigs[0][i].real for i in sortidx])\n",
    "    v = np.array([L_eigs[1][:,i].real for i in sortidx])\n",
    "    T = np.zeros(N)\n",
    "    dv = np.dot (v,d)\n",
    "    if not weighted :\n",
    "        for j in range(N) :\n",
    "            for i in range(1,N) :\n",
    "                T[j] += 1.0/l[i] * (2*E*v[i,j]**2 - v[i,j]*dv[i])\n",
    "        return float(N)/(N-1.0) * T\n",
    "    else :\n",
    "        for j in range(N) :\n",
    "            for i in range(1,N) :\n",
    "                dvi = v[i,j]*dv[i]\n",
    "                T[j] += 1.0/l[i]*((2*E)**2*v[i,j]**2 - 2*v[i,j]*2*E*dvi - dvi**2)\n",
    "        return T/(2*E)"
   ]
  },
  {
   "cell_type": "code",
   "execution_count": null,
   "metadata": {},
   "outputs": [],
   "source": [
    "def matrix_with_void(mat0, p_void) :\n",
    "    N = mat0.shape[0]\n",
    "    d_j = np.sum(mat0,axis=1)\n",
    "    lambda_j = p_void * d_j / (1-p_void)\n",
    "    \n",
    "    # init the new matrix and fill it with the previous elements\n",
    "    mat = np.zeros((N+1,N+1))\n",
    "    mat[:N,:N] = mat0\n",
    "    \n",
    "    # put the extra state\n",
    "    mat[N,:-1] = lambda_j\n",
    "    mat[:-1,N] = lambda_j\n",
    "    \n",
    "    return mat"
   ]
  },
  {
   "cell_type": "code",
   "execution_count": null,
   "metadata": {},
   "outputs": [],
   "source": [
    "def uniform_decay(n, alpha) :\n",
    "    # init matrix\n",
    "    m = np.zeros((n,n))\n",
    "\n",
    "    # init p(s) function\n",
    "    ps = np.arange(1,n)**alpha\n",
    "    ps /= ps.sum()\n",
    "\n",
    "    # for i in \n",
    "    for i in range(n) :\n",
    "        m[i,i+1:] = ps[:n-i-1]\n",
    "        m[i,:i] = np.flip(ps[:i])\n",
    "    \n",
    "    return m"
   ]
  },
  {
   "cell_type": "code",
   "execution_count": null,
   "metadata": {},
   "outputs": [],
   "source": [
    "def add_tad(mat, tad_start, tad_end, tad_alpha) :\n",
    "    n = tad_end - tad_start\n",
    "    mat[tad_start:tad_end, tad_start:tad_end] += uniform_decay(n, tad_alpha)\n",
    "    return mat"
   ]
  },
  {
   "cell_type": "code",
   "execution_count": null,
   "metadata": {},
   "outputs": [],
   "source": [
    "def add_noise(M, n_noise) :\n",
    "    N = M.shape[0]\n",
    "    coords = np.random.randint(low=0, high=N, size=(n_noise,2))\n",
    "    for i,j in coords :\n",
    "        M[i,j] += 1"
   ]
  },
  {
   "cell_type": "markdown",
   "metadata": {},
   "source": [
    "## Chain\n",
    "Let's start with a simple example: a chain."
   ]
  },
  {
   "cell_type": "code",
   "execution_count": null,
   "metadata": {},
   "outputs": [],
   "source": [
    "N = 10\n",
    "p_void = 0.3\n",
    "\n",
    "# init the chain\n",
    "chain0 = np.zeros((N,N))\n",
    "for i in range(1,N) :\n",
    "    chain0[i,i-1] = 1.0\n",
    "    chain0[i-1,i] = 1.0\n",
    "    \n",
    "# now I want to add a new node to the network. I create a new adjacency\n",
    "# matrix\n",
    "chain = matrix_with_void(chain0, p_void)"
   ]
  },
  {
   "cell_type": "code",
   "execution_count": null,
   "metadata": {},
   "outputs": [],
   "source": [
    "plt.matshow(chain)"
   ]
  },
  {
   "cell_type": "code",
   "execution_count": null,
   "metadata": {},
   "outputs": [],
   "source": [
    "# calculate the GMFPT as a function of the site\n",
    "chain_gmfpt = GMFPT_theory(chain)"
   ]
  },
  {
   "cell_type": "code",
   "execution_count": null,
   "metadata": {},
   "outputs": [],
   "source": [
    "# plot\n",
    "plt.plot(chain_gmfpt[:N],linewidth=3)\n",
    "plt.xlabel(\"Site index\",fontsize=18)\n",
    "plt.ylabel(\"GMFPT\",fontsize=18)\n",
    "plt.title (r\"Chain, $p_{void}$ = %.1e\"%p_void)\n",
    "plt.show()"
   ]
  },
  {
   "cell_type": "code",
   "execution_count": null,
   "metadata": {},
   "outputs": [],
   "source": [
    "N = 1000\n",
    "alpha = -1.0\n",
    "\n",
    "B0 = uniform_decay(N, alpha)\n",
    "B = matrix_with_void(B0, p_void)"
   ]
  },
  {
   "cell_type": "code",
   "execution_count": null,
   "metadata": {},
   "outputs": [],
   "source": [
    "plt.matshow(np.log(B), cmap=plt.cm.Greys)"
   ]
  },
  {
   "cell_type": "code",
   "execution_count": null,
   "metadata": {},
   "outputs": [],
   "source": [
    "B_gmfpt = GMFPT_theory(B)\n",
    "plt.plot(B_gmfpt[:N],linewidth=3)\n",
    "plt.xlabel(\"Site index\",fontsize=18)\n",
    "plt.ylabel(\"GMFPT\",fontsize=18)\n",
    "plt.title (r\"B, $p_{void}$ = %.1e\"%p_void)\n",
    "plt.show()"
   ]
  },
  {
   "cell_type": "code",
   "execution_count": null,
   "metadata": {},
   "outputs": [],
   "source": [
    "tad.sum()"
   ]
  },
  {
   "cell_type": "code",
   "execution_count": null,
   "metadata": {},
   "outputs": [],
   "source": [
    "tad0 = uniform_decay(N, alpha)\n",
    "tad0 = add_tad(tad0, 0, 300, -0.5)\n",
    "tad0 = add_tad(tad0, 200, 500, -0.5)\n",
    "tad0 = add_tad(tad0, 400, 600, -0.5)\n",
    "tad0 = add_tad(tad0, 550, 900, -0.5)\n",
    "tad0 = add_tad(tad0, 850, 1000, -0.5)\n",
    "tad = matrix_with_void(tad0, p_void)\n",
    "\n",
    "# now give it a more \"realistic\" touch\n",
    "n_reads = 10000\n",
    "noise_ratio = 0.9\n",
    "n_noise = int(n_reads * noise_ratio)\n",
    "tad *= n_reads\n",
    "add_noise(tad, n_noise)\n",
    "\n",
    "plt.matshow(np.log(tad))"
   ]
  },
  {
   "cell_type": "code",
   "execution_count": null,
   "metadata": {},
   "outputs": [],
   "source": [
    "tad"
   ]
  },
  {
   "cell_type": "code",
   "execution_count": null,
   "metadata": {},
   "outputs": [],
   "source": [
    "tad_gmfpt = GMFPT_theory(tad)\n",
    "plt.plot(tad_gmfpt[:N]/tad_gmfpt[:N].min(), linewidth=3)\n",
    "plt.xlabel(\"Site index\",fontsize=18)\n",
    "plt.ylabel(\"GMFPT\",fontsize=18)\n",
    "plt.title (r\"B, $p_{void}$ = %.1e\"%p_void)\n",
    "plt.show()"
   ]
  }
 ],
 "metadata": {
  "kernelspec": {
   "display_name": "Python 3",
   "language": "python",
   "name": "vpython3"
  },
  "language_info": {
   "codemirror_mode": {
    "name": "ipython",
    "version": 3
   },
   "file_extension": ".py",
   "mimetype": "text/x-python",
   "name": "python",
   "nbconvert_exporter": "python",
   "pygments_lexer": "ipython3"
  }
 },
 "nbformat": 4,
 "nbformat_minor": 2
}
